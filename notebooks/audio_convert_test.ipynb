{
 "cells": [
  {
   "cell_type": "code",
   "execution_count": null,
   "metadata": {},
   "outputs": [],
   "source": [
    "import subprocess\n",
    "\n",
    "infile=\"/mnt/disk1/tapearchive/A4/211008_0016.wav\" \n",
    "outfile = \"/home/caiwan/test3.flac\"\n",
    "\n",
    "filter_stack = \";\".join([\n",
    "    \"acopy[out]\",\n",
    "    \"[out]channelsplit=channel_layout=stereo:channels=FL[out]\"\n",
    "    \"[out]dynaudnorm=framelen=1000:maxgain=3:coupling=false[out]\"\n",
    "])\n",
    "\n",
    "ffmpeg_commnad=f\"ffmpeg -y -i {infile} -filter_complex {filter_stack} -map [out] {outfile}\"\n",
    "\n",
    "print(ffmpeg_commnad.split())\n",
    "\n",
    "ffmpeg_process = subprocess.Popen(ffmpeg_commnad.split(), stdout=subprocess.PIPE, stdin=subprocess.PIPE)\n",
    "\n",
    "while ffmpeg_process.poll() is None:\n",
    "    try:\n",
    "        stdout_data, stderr_data = ffmpeg_process.communicate(timeout=30)\n",
    "    except subprocess.TimeoutExpired:\n",
    "        ffmpeg_process.kill()\n",
    "        stdout_data, stderr_data = ffmpeg_process.communicate()\n",
    "    print(stdout_data, stderr_data)"
   ]
  },
  {
   "cell_type": "code",
   "execution_count": null,
   "metadata": {},
   "outputs": [],
   "source": [
    "import sys\n",
    "import logging\n",
    "\n",
    "\n",
    "LOGGER = logging.getLogger()\n",
    "LOGGER.setLevel(logging.DEBUG)\n",
    "\n",
    "handler = logging.StreamHandler(sys.stderr)\n",
    "\n",
    "formatter = logging.Formatter('%(threadName)s: %(name)s - %(levelname)s - %(message)s')\n",
    "handler.setFormatter(formatter)\n",
    "\n",
    "LOGGER.handlers = [handler]"
   ]
  },
  {
   "cell_type": "code",
   "execution_count": null,
   "metadata": {},
   "outputs": [],
   "source": [
    "import waiting\n",
    "from contextlib import ExitStack\n",
    "\n",
    "from tq.task_dispacher import LocalTaskQueue, TaskDispatcher\n",
    "from tq.job_system import JobManager\n",
    "\n",
    "from tapearchive.models.records import ChannelMode\n",
    "from tapearchive.workflow.audio_convert import ConvertAudio, AudioConverterHandler\n",
    "\n",
    "# Do task\n",
    "task_queue = LocalTaskQueue()\n",
    "with ExitStack() as stack:\n",
    "    job_manager = stack.enter_context(JobManager())\n",
    "    dispatcher = stack.enter_context(TaskDispatcher(task_queue, job_manager))\n",
    "\n",
    "    audio_converter_handler = AudioConverterHandler()\n",
    "    dispatcher.register_task_handler(audio_converter_handler)\n",
    "\n",
    "    logging.debug(dispatcher.task_handlers)\n",
    "\n",
    "    dispatcher.post_task(ConvertAudio(\n",
    "        source=\"/mnt/disk1/tapearchive/B4/211014_0050.wav\",\n",
    "        source_channel=ChannelMode.LEFT,\n",
    "        target = \"/home/caiwan/test_L.flac\",\n",
    "    ))\n",
    "\n",
    "    dispatcher.post_task(ConvertAudio(\n",
    "        source=\"/mnt/disk1/tapearchive/B4/211014_0050.wav\",\n",
    "        source_channel=ChannelMode.RIGHT,\n",
    "        target = \"/home/caiwan/test_R.flac\",\n",
    "    ))\n",
    "\n",
    "    waiting.wait(lambda: len(audio_converter_handler.tasks_finished)==2, sleep_seconds=1, timeout_seconds=120)\n",
    "\n",
    "    logging.info(audio_converter_handler.tasks_finished)"
   ]
  }
 ],
 "metadata": {
  "interpreter": {
   "hash": "2f0a790571384805986ec1a58f388fd214deb8a028107103dda3e7fd720311de"
  },
  "kernelspec": {
   "display_name": "Python 3.8.10 64-bit ('tapearchive': pyenv)",
   "language": "python",
   "name": "python3"
  },
  "language_info": {
   "codemirror_mode": {
    "name": "ipython",
    "version": 3
   },
   "file_extension": ".py",
   "mimetype": "text/x-python",
   "name": "python",
   "nbconvert_exporter": "python",
   "pygments_lexer": "ipython3",
   "version": "3.8.10"
  },
  "orig_nbformat": 4
 },
 "nbformat": 4,
 "nbformat_minor": 2
}
