{
 "cells": [
  {
   "cell_type": "code",
   "execution_count": null,
   "metadata": {},
   "outputs": [],
   "source": [
    "from tqdm.notebook import tqdm\n",
    "import logging\n",
    "for handler in logging.root.handlers[:]:\n",
    "    logging.root.removeHandler(handler)\n",
    "\n",
    "logging.basicConfig(format=' %(asctime)s - %(levelname)s - %(message)s')\n",
    "\n",
    "logger = logging.getLogger()\n",
    "logger.setLevel(logging.DEBUG)"
   ]
  },
  {
   "cell_type": "code",
   "execution_count": null,
   "metadata": {},
   "outputs": [],
   "source": [
    "from contextlib import ExitStack\n",
    "from waiting import wait\n",
    "\n",
    "from tapearchive import app\n",
    "from tapearchive.utils import get_config\n",
    "\n",
    "app_config = get_config(\"./config.yaml\")\n",
    "exit_stack = ExitStack()\n",
    "connection_pool = app.create_db_connection(app_config)\n",
    "dispatcher = app.create_dispatcher(connection_pool, app_config, exit_stack)"
   ]
  },
  {
   "cell_type": "code",
   "execution_count": null,
   "metadata": {},
   "outputs": [],
   "source": [
    "from tapearchive.workflow.tasks.audio_analisis import FindTuneKey\n",
    "from tapearchive.models.raw_data import FileDao\n",
    "\n",
    "import pathlib \n",
    "import glob\n",
    "\n",
    "source_path = pathlib.Path(\"/home/caiwan/hdd/**/*.*\")\\\n",
    "\n",
    "file_dao = FileDao(connection_pool)\n",
    "\n",
    "for file in tqdm(glob.glob(str(source_path), recursive=True)):\n",
    "    input_file = pathlib.Path(file)\n",
    "    if input_file.is_file():\n",
    "        file_id = file_dao.pull_from_disk(input_file)\n",
    "\n",
    "        print(input_file)\n",
    "        \n",
    "        dispatcher.post_task(FindTuneKey(\n",
    "            source_file_id=file_id,\n",
    "            source_format=input_file.suffix\n",
    "        ))\n",
    "\n",
    "\n",
    "        break"
   ]
  },
  {
   "cell_type": "code",
   "execution_count": null,
   "metadata": {},
   "outputs": [],
   "source": [
    "logger.debug(\"------------\")\n",
    "\n",
    "dispatcher.terminate()\n",
    "wait(lambda: dispatcher.is_exit)\n",
    "\n",
    "exit_stack.close()"
   ]
  }
 ],
 "metadata": {
  "kernelspec": {
   "display_name": "Python 3.9.5 64-bit ('audioarchive')",
   "language": "python",
   "name": "python3"
  },
  "language_info": {
   "codemirror_mode": {
    "name": "ipython",
    "version": 3
   },
   "file_extension": ".py",
   "mimetype": "text/x-python",
   "name": "python",
   "nbconvert_exporter": "python",
   "pygments_lexer": "ipython3",
   "version": "3.9.5"
  },
  "orig_nbformat": 4,
  "vscode": {
   "interpreter": {
    "hash": "58b6fe66923c3c652b368341b0c952dda4f76607b65edb273b6ce85cfb2452ee"
   }
  }
 },
 "nbformat": 4,
 "nbformat_minor": 2
}
