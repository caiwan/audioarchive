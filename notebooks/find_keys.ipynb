{
 "cells": [
  {
   "cell_type": "code",
   "execution_count": 9,
   "metadata": {},
   "outputs": [],
   "source": [
    "from tqdm.notebook import tqdm\n",
    "import logging\n",
    "for handler in logging.root.handlers[:]:\n",
    "    logging.root.removeHandler(handler)\n",
    "\n",
    "logging.basicConfig(format=' %(asctime)s - %(levelname)s - %(message)s')\n",
    "\n",
    "logger = logging.getLogger()\n",
    "logger.setLevel(logging.DEBUG)"
   ]
  },
  {
   "cell_type": "code",
   "execution_count": 10,
   "metadata": {},
   "outputs": [
    {
     "name": "stderr",
     "output_type": "stream",
     "text": [
      " 2022-06-19 18:12:59,580 - DEBUG - Creating 7 workers\n",
      " 2022-06-19 18:12:59,664 - DEBUG - Worker <Worker(Thread-19, started daemon 139724308866624)> starts\n",
      " 2022-06-19 18:12:59,665 - DEBUG - Worker <Worker(Thread-20, started daemon 139724300473920)> starts\n",
      " 2022-06-19 18:12:59,665 - DEBUG - Worker <Worker(Thread-21, started daemon 139724292081216)> starts\n",
      " 2022-06-19 18:12:59,665 - DEBUG - Worker <Worker(Thread-22, started daemon 139723540526656)> starts\n",
      " 2022-06-19 18:12:59,665 - DEBUG - Worker <Worker(Thread-23, started daemon 139723532133952)> starts\n",
      " 2022-06-19 18:12:59,666 - DEBUG - Worker <Worker(Thread-24, started daemon 139723523741248)> starts\n",
      " 2022-06-19 18:12:59,667 - DEBUG - Worker <Worker(Thread-25, started daemon 139723515348544)> starts\n",
      " 2022-06-19 18:12:59,667 - DEBUG - Dispatch loop starting.\n",
      " 2022-06-19 18:12:59,670 - DEBUG - <class 'tapearchive.workflow.tasks.audio_convert.ConvertAudio'> had been registered to <tapearchive.workflow.tasks.audio_convert.AudioConverterHandler object at 0x7f1419cdf760>\n",
      " 2022-06-19 18:12:59,670 - DEBUG - <class 'tapearchive.workflow.tasks.audio_convert.AudioConversionDone'> had been registered to <tapearchive.workflow.tasks.audio_convert.AudioConverterHandler object at 0x7f1419cdf760>\n",
      " 2022-06-19 18:12:59,670 - DEBUG - <class 'tapearchive.workflow.tasks.audio_convert.AudioConversionError'> had been registered to <tapearchive.workflow.tasks.audio_convert.AudioConverterHandler object at 0x7f1419cdf760>\n",
      " 2022-06-19 18:12:59,671 - DEBUG - <class 'tapearchive.workflow.tasks.audio_analisis.FindTuneKey'> had been registered to <tapearchive.workflow.tasks.audio_analisis.FindKeyHandler object at 0x7f1419cdf970>\n"
     ]
    }
   ],
   "source": [
    "from contextlib import ExitStack\n",
    "from waiting import wait\n",
    "\n",
    "from tapearchive import app\n",
    "from tapearchive.utils import get_config\n",
    "\n",
    "app_config = get_config(\"./config.yaml\")\n",
    "exit_stack = ExitStack()\n",
    "connection_pool = app.create_db_connection(app_config)\n",
    "dispatcher = app.create_dispatcher(connection_pool, app_config, exit_stack)"
   ]
  },
  {
   "cell_type": "code",
   "execution_count": 11,
   "metadata": {},
   "outputs": [
    {
     "data": {
      "application/vnd.jupyter.widget-view+json": {
       "model_id": "d9cde90455d34999b6ee0ab99ae65026",
       "version_major": 2,
       "version_minor": 0
      },
      "text/plain": [
       "  0%|          | 0/13044 [00:00<?, ?it/s]"
      ]
     },
     "metadata": {},
     "output_type": "display_data"
    },
    {
     "name": "stderr",
     "output_type": "stream",
     "text": [
      " 2022-06-19 18:12:59,968 - DEBUG - Worker <Worker(Thread-22, started daemon 139723540526656)> starts\n",
      " 2022-06-19 18:12:59,970 - DEBUG - dispatch loop_tick\n",
      " 2022-06-19 18:13:00,460 - DEBUG - Task posted: FindTuneKey(source_file_id=UUID('47b3210a-df81-4c0a-8823-294ceb7868b6'), source_format='.flac')\n"
     ]
    },
    {
     "name": "stdout",
     "output_type": "stream",
     "text": [
      "/home/caiwan/hdd/2 Raff - Don't Stop The Music [CUjoPOQNeRA].flac\n"
     ]
    }
   ],
   "source": [
    "from tapearchive.workflow.tasks.audio_analisis import FindTuneKey\n",
    "from tapearchive.models.raw_data import FileDao\n",
    "\n",
    "import pathlib \n",
    "import glob\n",
    "\n",
    "source_path = pathlib.Path(\"/home/caiwan/hdd/**/*.*\")\\\n",
    "\n",
    "file_dao = FileDao(connection_pool)\n",
    "\n",
    "for file in tqdm(glob.glob(str(source_path), recursive=True)):\n",
    "    input_file = pathlib.Path(file)\n",
    "    if input_file.is_file():\n",
    "        file_id = file_dao.pull_from_disk(input_file)\n",
    "\n",
    "        print(input_file)\n",
    "        \n",
    "        dispatcher.post_task(FindTuneKey(\n",
    "            source_file_id=file_id,\n",
    "            source_format=input_file.suffix\n",
    "        ))\n",
    "\n",
    "\n",
    "        break"
   ]
  },
  {
   "cell_type": "code",
   "execution_count": 12,
   "metadata": {},
   "outputs": [
    {
     "name": "stderr",
     "output_type": "stream",
     "text": [
      " 2022-06-19 18:13:00,522 - DEBUG - ------------\n",
      " 2022-06-19 18:13:00,527 - DEBUG - Task posted: <tq.task_dispacher.TerminateDispatcherLoop object at 0x7f14210b64f0>\n"
     ]
    },
    {
     "ename": "KeyboardInterrupt",
     "evalue": "",
     "output_type": "error",
     "traceback": [
      "\u001b[0;31m---------------------------------------------------------------------------\u001b[0m",
      "\u001b[0;31mKeyboardInterrupt\u001b[0m                         Traceback (most recent call last)",
      "\u001b[1;32m/home/caiwan/prog/audioarchive/notebooks/find_keys.ipynb Cell 4'\u001b[0m in \u001b[0;36m<cell line: 4>\u001b[0;34m()\u001b[0m\n\u001b[1;32m      <a href='vscode-notebook-cell://ssh-remote%2Bcaiwan/home/caiwan/prog/audioarchive/notebooks/find_keys.ipynb#ch0000002vscode-remote?line=0'>1</a>\u001b[0m logger\u001b[39m.\u001b[39mdebug(\u001b[39m\"\u001b[39m\u001b[39m------------\u001b[39m\u001b[39m\"\u001b[39m)\n\u001b[1;32m      <a href='vscode-notebook-cell://ssh-remote%2Bcaiwan/home/caiwan/prog/audioarchive/notebooks/find_keys.ipynb#ch0000002vscode-remote?line=2'>3</a>\u001b[0m dispatcher\u001b[39m.\u001b[39mterminate()\n\u001b[0;32m----> <a href='vscode-notebook-cell://ssh-remote%2Bcaiwan/home/caiwan/prog/audioarchive/notebooks/find_keys.ipynb#ch0000002vscode-remote?line=3'>4</a>\u001b[0m wait(\u001b[39mlambda\u001b[39;49;00m: dispatcher\u001b[39m.\u001b[39;49mis_exit)\n\u001b[1;32m      <a href='vscode-notebook-cell://ssh-remote%2Bcaiwan/home/caiwan/prog/audioarchive/notebooks/find_keys.ipynb#ch0000002vscode-remote?line=5'>6</a>\u001b[0m exit_stack\u001b[39m.\u001b[39mclose()\n",
      "File \u001b[0;32m~/.pyenv/versions/3.9.5/envs/audioarchive/lib/python3.9/site-packages/waiting/__init__.py:18\u001b[0m, in \u001b[0;36mwait\u001b[0;34m(*args, **kwargs)\u001b[0m\n\u001b[1;32m     16\u001b[0m result \u001b[39m=\u001b[39m _Result()\n\u001b[1;32m     17\u001b[0m \u001b[39mtry\u001b[39;00m:\n\u001b[0;32m---> 18\u001b[0m     \u001b[39mfor\u001b[39;00m x \u001b[39min\u001b[39;00m iterwait(result\u001b[39m=\u001b[39mresult, \u001b[39m*\u001b[39margs, \u001b[39m*\u001b[39m\u001b[39m*\u001b[39mkwargs):\n\u001b[1;32m     19\u001b[0m         \u001b[39mpass\u001b[39;00m\n\u001b[1;32m     20\u001b[0m \u001b[39mexcept\u001b[39;00m NestedStopIteration \u001b[39mas\u001b[39;00m e:\n",
      "File \u001b[0;32m~/.pyenv/versions/3.9.5/envs/audioarchive/lib/python3.9/site-packages/waiting/__init__.py:57\u001b[0m, in \u001b[0;36miterwait\u001b[0;34m(predicate, timeout_seconds, sleep_seconds, result, waiting_for, on_poll, expected_exceptions)\u001b[0m\n\u001b[1;32m     55\u001b[0m \u001b[39mif\u001b[39;00m timeout\u001b[39m.\u001b[39mis_expired():\n\u001b[1;32m     56\u001b[0m     \u001b[39mraise\u001b[39;00m TimeoutExpired(timeout_seconds, waiting_for)\n\u001b[0;32m---> 57\u001b[0m \u001b[39myield\u001b[39;00m\n",
      "File \u001b[0;32m~/.pyenv/versions/3.9.5/lib/python3.9/contextlib.py:124\u001b[0m, in \u001b[0;36m_GeneratorContextManager.__exit__\u001b[0;34m(self, type, value, traceback)\u001b[0m\n\u001b[1;32m    122\u001b[0m \u001b[39mif\u001b[39;00m \u001b[39mtype\u001b[39m \u001b[39mis\u001b[39;00m \u001b[39mNone\u001b[39;00m:\n\u001b[1;32m    123\u001b[0m     \u001b[39mtry\u001b[39;00m:\n\u001b[0;32m--> 124\u001b[0m         \u001b[39mnext\u001b[39;49m(\u001b[39mself\u001b[39;49m\u001b[39m.\u001b[39;49mgen)\n\u001b[1;32m    125\u001b[0m     \u001b[39mexcept\u001b[39;00m \u001b[39mStopIteration\u001b[39;00m:\n\u001b[1;32m    126\u001b[0m         \u001b[39mreturn\u001b[39;00m \u001b[39mFalse\u001b[39;00m\n",
      "File \u001b[0;32m~/.pyenv/versions/3.9.5/envs/audioarchive/lib/python3.9/site-packages/waiting/__init__.py:66\u001b[0m, in \u001b[0;36m_end_sleeping\u001b[0;34m(total_seconds)\u001b[0m\n\u001b[1;32m     64\u001b[0m \u001b[39myield\u001b[39;00m sleep_toggle\n\u001b[1;32m     65\u001b[0m \u001b[39mif\u001b[39;00m sleep_toggle\u001b[39m.\u001b[39menabled:\n\u001b[0;32m---> 66\u001b[0m     time_module\u001b[39m.\u001b[39;49msleep(\u001b[39mmax\u001b[39;49m(\u001b[39m0\u001b[39;49m, deadline\u001b[39m.\u001b[39;49mget_num_seconds_remaining()))\n",
      "\u001b[0;31mKeyboardInterrupt\u001b[0m: "
     ]
    }
   ],
   "source": [
    "logger.debug(\"------------\")\n",
    "\n",
    "dispatcher.terminate()\n",
    "wait(lambda: dispatcher.is_exit)\n",
    "\n",
    "exit_stack.close()"
   ]
  }
 ],
 "metadata": {
  "kernelspec": {
   "display_name": "Python 3.9.5 64-bit ('audioarchive')",
   "language": "python",
   "name": "python3"
  },
  "language_info": {
   "codemirror_mode": {
    "name": "ipython",
    "version": 3
   },
   "file_extension": ".py",
   "mimetype": "text/x-python",
   "name": "python",
   "nbconvert_exporter": "python",
   "pygments_lexer": "ipython3",
   "version": "3.9.5"
  },
  "orig_nbformat": 4,
  "vscode": {
   "interpreter": {
    "hash": "58b6fe66923c3c652b368341b0c952dda4f76607b65edb273b6ce85cfb2452ee"
   }
  }
 },
 "nbformat": 4,
 "nbformat_minor": 2
}
