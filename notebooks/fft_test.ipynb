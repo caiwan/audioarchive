{
 "cells": [
  {
   "cell_type": "code",
   "execution_count": null,
   "metadata": {},
   "outputs": [],
   "source": [
    "import numpy as np\n",
    "import math \n",
    "\n",
    "import matplotlib.pyplot as plt\n",
    "\n",
    "signal_length = 16\n",
    "period_count = 4\n",
    "input_data = np.array([math.cos(i * (1./(signal_length*period_count))) for i in range(signal_length)])\n",
    "\n",
    "\n",
    "plt.plot(input_data)\n"
   ]
  }
 ],
 "metadata": {
  "interpreter": {
   "hash": "2f0a790571384805986ec1a58f388fd214deb8a028107103dda3e7fd720311de"
  },
  "kernelspec": {
   "display_name": "Python 3.8.10 64-bit ('tapearchive')",
   "language": "python",
   "name": "python3"
  },
  "language_info": {
   "codemirror_mode": {
    "name": "ipython",
    "version": 3
   },
   "file_extension": ".py",
   "mimetype": "text/x-python",
   "name": "python",
   "nbconvert_exporter": "python",
   "pygments_lexer": "ipython3",
   "version": "3.9.5"
  },
  "orig_nbformat": 4
 },
 "nbformat": 4,
 "nbformat_minor": 2
}
