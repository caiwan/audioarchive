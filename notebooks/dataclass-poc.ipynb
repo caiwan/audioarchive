{
 "cells": [
  {
   "cell_type": "code",
   "execution_count": 63,
   "metadata": {},
   "outputs": [],
   "source": [
    "from dataclasses import dataclass \n",
    "\n",
    "\n",
    "def _get_fields_from_class(cls):\n",
    "    fields = {}\n",
    "    annotations = cls.__dict__.get('__annotations__', {})\n",
    "    for name, type in annotations.items():\n",
    "        fields [name] = type\n",
    "    return fields\n",
    "\n",
    "\n",
    "def _inject_getter_setter(cls, name, type):\n",
    "    if not name.startswith(\"_\"):\n",
    "        return\n",
    "    \n",
    "    # DO the things\n",
    "\n",
    "\n",
    "def dirty(cls):\n",
    "    def wrap(cls):\n",
    "        fields = _get_fields_from_class(cls)\n",
    "        for base in cls.__mro__[-1:0:-1]:\n",
    "            fields.update(_get_fields_from_class(base))\n",
    "\n",
    "        for field_name, field_type in fields.items():\n",
    "            _inject_getter_setter(cls, field_name, field_type)\n",
    "\n",
    "        print(fields)\n",
    "\n",
    "        return cls\n",
    "\n",
    "    return wrap(cls)\n",
    "\n",
    "\n"
   ]
  },
  {
   "cell_type": "code",
   "execution_count": 64,
   "metadata": {},
   "outputs": [
    {
     "name": "stdout",
     "output_type": "stream",
     "text": [
      "{'a': <class 'int'>, 'b': <class 'str'>, 'c': <class 'float'>}\n",
      "{'d': <class 'str'>, 'e': <class 'str'>, 'f': <class 'str'>, 'a': <class 'int'>, 'b': <class 'str'>, 'c': <class 'float'>}\n"
     ]
    }
   ],
   "source": [
    "@dirty\n",
    "@dataclass \n",
    "class A():\n",
    "    _a: int = 0\n",
    "    _b: str = \"\"\n",
    "    _c: float = 0.0\n",
    "\n",
    "    def __post_init__(self):\n",
    "        print(\"my_post_init\")\n",
    "\n",
    "@dirty\n",
    "@dataclass\n",
    "class B(A):\n",
    "    _d: str = \"\"\n",
    "    _e: str = \"\"\n",
    "    _f: str = \"\"\n",
    "\n",
    "    def __post_init__(self):\n",
    "        print(\"my_post_init_2\")"
   ]
  },
  {
   "cell_type": "code",
   "execution_count": 65,
   "metadata": {},
   "outputs": [
    {
     "name": "stdout",
     "output_type": "stream",
     "text": [
      "my_post_init_2\n"
     ]
    }
   ],
   "source": [
    "b = B(\n",
    "    a=42,\n",
    "    b=\"potato\",\n",
    "    c=2.16,\n",
    "    d= \"asd\",\n",
    "    e= \"sdf\",\n",
    "    f= \"dfg\",\n",
    ")\n",
    "\n",
    "# dir(b)"
   ]
  },
  {
   "cell_type": "markdown",
   "metadata": {},
   "source": []
  }
 ],
 "metadata": {
  "kernelspec": {
   "display_name": "Python 3.10.7 64-bit",
   "language": "python",
   "name": "python3"
  },
  "language_info": {
   "codemirror_mode": {
    "name": "ipython",
    "version": 3
   },
   "file_extension": ".py",
   "mimetype": "text/x-python",
   "name": "python",
   "nbconvert_exporter": "python",
   "pygments_lexer": "ipython3",
   "version": "3.10.7"
  },
  "orig_nbformat": 4,
  "vscode": {
   "interpreter": {
    "hash": "d3e10ef16274dd72e574b8fa73b58450b957d8421a2901baded3cca26fcf5dda"
   }
  }
 },
 "nbformat": 4,
 "nbformat_minor": 2
}
